{
 "cells": [
  {
   "cell_type": "markdown",
   "metadata": {},
   "source": [
    "![Palace of Culture and Science](josh-hild-kLaOHFZgZCg-unsplash_s.jpg)"
   ]
  },
  {
   "cell_type": "markdown",
   "metadata": {},
   "source": [
    "*Photo by\n",
    "[Josh Hild](https://unsplash.com/@joshhild?utm_source=unsplash&utm_medium=referral&utm_content=creditCopyText)\n",
    "on\n",
    "[Unsplash](https://unsplash.com/collections/9563576/warsaw?utm_source=unsplash&utm_medium=referral&utm_content=creditCopyText)*"
   ]
  },
  {
   "cell_type": "markdown",
   "metadata": {},
   "source": [
    "## IBM Data Science on Coursera\n",
    "This notebook contains my capstone project submission for the IBM Data Science course available on Coursera.\n",
    "# Housing Development Market in Warsaw, Poland — Analysis."
   ]
  },
  {
   "cell_type": "markdown",
   "metadata": {},
   "source": [
    "## 1. Introduction"
   ]
  },
  {
   "cell_type": "markdown",
   "metadata": {},
   "source": [
    "### 1.1 Description & Disscusion of the Background"
   ]
  },
  {
   "cell_type": "markdown",
   "metadata": {},
   "source": [
    "Warsaw is the capital of Poland, and with **~1,8 million** citizens, the most populous city in the country. The population density is **3 448** per square kilometre, and it is divided into **18** districts.  \n",
    "In the past several years the city has been undergoing rapid development, quickly increasing its housing capacity - growing at the rate of **2-2,5%** every year since 2016, with the total number of dwellings expected to surpass **1 million**, and the total dwelling area of **60 million** square meters in year 2020. With well in excess of **20 thousand** new apartments and houses to choose from each year, picking the right one can overwhelm any prospective homeowner. Consider the staggering rate at which prices increase - up to **6,81%** in 2018 - and the pressure becomes that much more evident.[^1]  \n",
    "This analysis aims to alleviate some of the concerns and answer some of the most basic questions a person faced with purchasing an apartment might have. It will look at all the 18 districts and more than 200 developments currently on sale in the city, compare and segment them, and map the results trying to pinpoint the most and least attractive areas, as well as highlight their most and least desirable characteristics. "
   ]
  },
  {
   "cell_type": "markdown",
   "metadata": {},
   "source": [
    "### 1.2 Data Description"
   ]
  },
  {
   "cell_type": "markdown",
   "metadata": {},
   "source": [
    "The data used in the analysis comes form several sources:\n",
    "- **Statistical Office in Warsaw[^1]**, containing statistical information about the individual districts. Some of the metrics that will be considered for evaluation include:\n",
    "    - crime rates,\n",
    "    - unemployment rates,\n",
    "    - cycle paths length,\n",
    "    - dwellings numbers,\n",
    "    - new dwellings constructed,\n",
    "    - available nursery space,\n",
    "    - medical practises,\n",
    "    - pharmacies,\n",
    "    - cinema screenings,\n",
    "    - sports clubs,\n",
    "    - average dwellings prices,\n",
    "- **Developers' websites** - manually collected data on the exact location of each development.\n",
    "- **Forsquare[^2]** - data on numbers and types of businesses in the vicinity of each development.\n",
    "- **Warsaw Public Transport Coverage[^3]** - access to different means of public transport. Manually collected data on availability of:\n",
    "    - metro stations,\n",
    "    - train stations,\n",
    "    - other public transport (tram, bus),\n",
    "- **jakdojade.pl[^4]** - public transport commute time to the city centre from each of the developments (the time it takes to get from a development to the \"Centrum\" stop on a weekday with arrival time set to 09:00AM and the routing mode set to \"optimal\".\n",
    "- **Geospatial data on Warsaw's administrative division[^5]** - provided by the user *andilabs* on GitHub.\n",
    "\n",
    "The above data will be used to extract the most meaningful features describing both the districts and developments. The developments will be assigned to respective districts based on their location and the districts boundaries provided by the geospatial data. Things like access to public transportation, distance from the city centre, average dwelling prices, vicinity of services, and others will be used to group districts/developments, and identify the most desirable locations."
   ]
  },
  {
   "cell_type": "markdown",
   "metadata": {},
   "source": [
    "## 2. Methodology"
   ]
  },
  {
   "cell_type": "markdown",
   "metadata": {},
   "source": [
    "## 3. Results"
   ]
  },
  {
   "cell_type": "markdown",
   "metadata": {},
   "source": [
    "## 4. Discussion"
   ]
  },
  {
   "cell_type": "markdown",
   "metadata": {},
   "source": [
    "## 5. Conclusion"
   ]
  },
  {
   "cell_type": "markdown",
   "metadata": {},
   "source": [
    "## 6. References\n",
    "[^1]: [Statistical Office in Warszawa](https://warszawa.stat.gov.pl/en/)  \n",
    "[^2]: [Forsquare API](https://developer.foursquare.com)  \n",
    "[^3]: [Warsaw Public Transport Coverage](https://um-warszawa.maps.arcgis.com/apps/MapSeries/index.html?appid=bceffa42c7814ff0b30628abb0ce42c6)  \n",
    "[^4]: [jakdojade.pl](https://jakdojade.pl/warszawa/trasa/)  \n",
    "[^5]: [Geospatial data on Warsaw's administrative division](https://github.com/andilabs/warszawa-dzielnice-geojson)"
   ]
  }
 ],
 "metadata": {
  "kernelspec": {
   "display_name": "Python 3",
   "language": "python",
   "name": "python3"
  },
  "language_info": {
   "codemirror_mode": {
    "name": "ipython",
    "version": 3
   },
   "file_extension": ".py",
   "mimetype": "text/x-python",
   "name": "python",
   "nbconvert_exporter": "python",
   "pygments_lexer": "ipython3",
   "version": "3.7.6"
  }
 },
 "nbformat": 4,
 "nbformat_minor": 4
}
